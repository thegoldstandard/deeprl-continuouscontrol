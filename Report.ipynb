{
 "cells": [
  {
   "cell_type": "code",
   "execution_count": 1,
   "metadata": {},
   "outputs": [],
   "source": [
    "# Default Imports\n",
    "working_dir = r'C:\\Users\\Solomon Gold\\Desktop\\Udacity\\deep-reinforcement-learning-master\\p2_continuous-control'\n",
    "env_path = r'C:\\Users\\Solomon Gold\\Desktop\\Udacity\\deep-reinforcement-learning-master\\p2_continuous-control\\Reacher_Windows_x86_64\\Reacher_Windows_x86_64\\Reacher.exe'\n",
    "\n",
    "import os\n",
    "os.chdir(working_dir)\n",
    "\n",
    "import matplotlib.pyplot as plt\n",
    "import numpy as np\n",
    "from collections import deque\n",
    "import torch"
   ]
  },
  {
   "cell_type": "markdown",
   "metadata": {},
   "source": [
    "# Continuous Control\n",
    "\n",
    "---\n",
    "\n",
    "In this notebook, you will learn how to use the Unity ML-Agents environment for the second project of the [Deep Reinforcement Learning Nanodegree](https://www.udacity.com/course/deep-reinforcement-learning-nanodegree--nd893) program.\n",
    "\n",
    "### 1. Start the Environment\n",
    "\n",
    "We begin by importing the necessary packages.  If the code cell below returns an error, please revisit the project instructions to double-check that you have installed [Unity ML-Agents](https://github.com/Unity-Technologies/ml-agents/blob/master/docs/Installation.md) and [NumPy](http://www.numpy.org/)."
   ]
  },
  {
   "cell_type": "code",
   "execution_count": 2,
   "metadata": {},
   "outputs": [],
   "source": [
    "from unityagents import UnityEnvironment"
   ]
  },
  {
   "cell_type": "markdown",
   "metadata": {},
   "source": [
    "Next, we will start the environment!  **_Before running the code cell below_**, change the `file_name` parameter to match the location of the Unity environment that you downloaded.\n",
    "\n",
    "- **Mac**: `\"path/to/Reacher.app\"`\n",
    "- **Windows** (x86): `\"path/to/Reacher_Windows_x86/Reacher.exe\"`\n",
    "- **Windows** (x86_64): `\"path/to/Reacher_Windows_x86_64/Reacher.exe\"`\n",
    "- **Linux** (x86): `\"path/to/Reacher_Linux/Reacher.x86\"`\n",
    "- **Linux** (x86_64): `\"path/to/Reacher_Linux/Reacher.x86_64\"`\n",
    "- **Linux** (x86, headless): `\"path/to/Reacher_Linux_NoVis/Reacher.x86\"`\n",
    "- **Linux** (x86_64, headless): `\"path/to/Reacher_Linux_NoVis/Reacher.x86_64\"`\n",
    "\n",
    "For instance, if you are using a Mac, then you downloaded `Reacher.app`.  If this file is in the same folder as the notebook, then the line below should appear as follows:\n",
    "```\n",
    "env = UnityEnvironment(file_name=\"Reacher.app\")\n",
    "```"
   ]
  },
  {
   "cell_type": "code",
   "execution_count": 3,
   "metadata": {},
   "outputs": [
    {
     "name": "stderr",
     "output_type": "stream",
     "text": [
      "INFO:unityagents:\n",
      "'Academy' started successfully!\n",
      "Unity Academy name: Academy\n",
      "        Number of Brains: 1\n",
      "        Number of External Brains : 1\n",
      "        Lesson number : 0\n",
      "        Reset Parameters :\n",
      "\t\tgoal_speed -> 1.0\n",
      "\t\tgoal_size -> 5.0\n",
      "Unity brain name: ReacherBrain\n",
      "        Number of Visual Observations (per agent): 0\n",
      "        Vector Observation space type: continuous\n",
      "        Vector Observation space size (per agent): 33\n",
      "        Number of stacked Vector Observation: 1\n",
      "        Vector Action space type: continuous\n",
      "        Vector Action space size (per agent): 4\n",
      "        Vector Action descriptions: , , , \n"
     ]
    }
   ],
   "source": [
    "env = UnityEnvironment(file_name=env_path)"
   ]
  },
  {
   "cell_type": "markdown",
   "metadata": {},
   "source": [
    "Environments contain **_brains_** which are responsible for deciding the actions of their associated agents. Here we check for the first brain available, and set it as the default brain we will be controlling from Python."
   ]
  },
  {
   "cell_type": "code",
   "execution_count": 4,
   "metadata": {},
   "outputs": [],
   "source": [
    "# get the default brain\n",
    "brain_name = env.brain_names[0]\n",
    "brain = env.brains[brain_name]"
   ]
  },
  {
   "cell_type": "markdown",
   "metadata": {},
   "source": [
    "### 2. Examine the State and Action Spaces\n",
    "\n",
    "In this environment, a double-jointed arm can move to target locations. A reward of `+0.1` is provided for each step that the agent's hand is in the goal location. Thus, the goal of your agent is to maintain its position at the target location for as many time steps as possible.\n",
    "\n",
    "The observation space consists of `33` variables corresponding to position, rotation, velocity, and angular velocities of the arm.  Each action is a vector with four numbers, corresponding to torque applicable to two joints.  Every entry in the action vector must be a number between `-1` and `1`.\n",
    "\n",
    "Run the code cell below to print some information about the environment."
   ]
  },
  {
   "cell_type": "code",
   "execution_count": 5,
   "metadata": {},
   "outputs": [
    {
     "name": "stdout",
     "output_type": "stream",
     "text": [
      "Number of agents: 1\n",
      "Size of each action: 4\n",
      "There are 1 agents. Each observes a state with length: 33\n",
      "The state for the first agent looks like: [ 0.00000000e+00 -4.00000000e+00  0.00000000e+00  1.00000000e+00\n",
      " -0.00000000e+00 -0.00000000e+00 -4.37113883e-08  0.00000000e+00\n",
      "  0.00000000e+00  0.00000000e+00  0.00000000e+00  0.00000000e+00\n",
      "  0.00000000e+00  0.00000000e+00 -1.00000000e+01  0.00000000e+00\n",
      "  1.00000000e+00 -0.00000000e+00 -0.00000000e+00 -4.37113883e-08\n",
      "  0.00000000e+00  0.00000000e+00  0.00000000e+00  0.00000000e+00\n",
      "  0.00000000e+00  0.00000000e+00  5.75471878e+00 -1.00000000e+00\n",
      "  5.55726671e+00  0.00000000e+00  1.00000000e+00  0.00000000e+00\n",
      " -1.68164849e-01]\n"
     ]
    }
   ],
   "source": [
    "# reset the environment\n",
    "env_info = env.reset(train_mode=True)[brain_name]\n",
    "\n",
    "# number of agents\n",
    "num_agents = len(env_info.agents)\n",
    "print('Number of agents:', num_agents)\n",
    "\n",
    "# size of each action\n",
    "action_size = brain.vector_action_space_size\n",
    "print('Size of each action:', action_size)\n",
    "\n",
    "# examine the state space \n",
    "states = env_info.vector_observations\n",
    "state_size = states.shape[1]\n",
    "print('There are {} agents. Each observes a state with length: {}'.format(states.shape[0], state_size))\n",
    "print('The state for the first agent looks like:', states[0])"
   ]
  },
  {
   "cell_type": "markdown",
   "metadata": {},
   "source": [
    "### 3. Take Random Actions in the Environment\n",
    "\n",
    "In the next code cell, you will learn how to use the Python API to control the agent and receive feedback from the environment.\n",
    "\n",
    "Once this cell is executed, you will watch the agent's performance, if it selects an action at random with each time step.  A window should pop up that allows you to observe the agent, as it moves through the environment.  \n",
    "\n",
    "Of course, as part of the project, you'll have to change the code so that the agent is able to use its experience to gradually choose better actions when interacting with the environment!"
   ]
  },
  {
   "cell_type": "code",
   "execution_count": 6,
   "metadata": {},
   "outputs": [
    {
     "name": "stdout",
     "output_type": "stream",
     "text": [
      "Total score (averaged over agents) this episode: 0.0\n"
     ]
    }
   ],
   "source": [
    "env_info = env.reset(train_mode=False)[brain_name]     # reset the environment    \n",
    "states = env_info.vector_observations                  # get the current state (for each agent)\n",
    "scores = np.zeros(num_agents)                          # initialize the score (for each agent)\n",
    "for _ in range(100):\n",
    "    actions = np.random.randn(num_agents, action_size) # select an action (for each agent)\n",
    "    actions = np.clip(actions, -1, 1)                  # all actions between -1 and 1\n",
    "    env_info = env.step(actions)[brain_name]           # send all actions to tne environment\n",
    "    next_states = env_info.vector_observations         # get next state (for each agent)\n",
    "    rewards = env_info.rewards                         # get reward (for each agent)\n",
    "    dones = env_info.local_done                        # see if episode finished\n",
    "    scores += env_info.rewards                         # update the score (for each agent)\n",
    "    states = next_states                               # roll over states to next time step\n",
    "    if np.any(dones):                                  # exit loop if episode finished\n",
    "        break\n",
    "print('Total score (averaged over agents) this episode: {}'.format(np.mean(scores)))"
   ]
  },
  {
   "cell_type": "markdown",
   "metadata": {},
   "source": [
    "### 4. DDGP Agent\n",
    "\n",
    "I chose to solve the environment with a Deep Deterministic Policy Gradient (DDPG) agent because it is amenable for use with continuous action spaces. Additionally, there is a well developed code base available for the DDPG agent from Udacity to build on and refine.\n",
    "\n",
    "#### Network Architecture\n",
    "Both actor and critic networks consist of two hidden layers of 128 features each. Batch normalization is applied directly to the input and also to the features directly before entry to layer two. I did experiment with adding a third layer of batch norm before the second level features enter the output layer, but this degraded performance so severely that the model could not learn at all. It is an open question as to why this is the case.\n",
    "\n",
    "Hyper parameters:\n",
    "- BUFFER_SIZE = int(1e6)  \n",
    "- BATCH_SIZE = 512       \n",
    "- GAMMA = 0.99            \n",
    "- TAU = 1e-3             \n",
    "- LR_ACTOR = 2e-4       \n",
    "- LR_CRITIC = 2e-4        \n",
    "- WEIGHT_DECAY = 0        \n",
    "\n",
    "#### Improvements\n",
    "As suggested by a few members of the community on the Slack channel, synchronizing the initialized weights between the target and the local network significantly sped up the learning process.\n",
    "\n",
    "#### Results\n",
    "The agent was able to solve the environment in under 200 episodes."
   ]
  },
  {
   "cell_type": "code",
   "execution_count": 7,
   "metadata": {},
   "outputs": [],
   "source": [
    "def ddpg(n_episodes=1000, max_t=1000):\n",
    "    scores = []\n",
    "    scores_deque = deque(maxlen=100)\n",
    "    for i_episode in range(1, n_episodes+1):\n",
    "        env_info = env.reset(train_mode=True)[brain_name]    # reset env\n",
    "        agent.reset()                                        # reset agent   \n",
    "        \n",
    "        state = env_info.vector_observations                 # get state\n",
    "        score = 0                                            # init score\n",
    "        for t in range(max_t):\n",
    "            #print('Episode:',i_episode,', t:',t)\n",
    "            #print('State:',state)\n",
    "            \n",
    "            action = agent.act(state)                        # generate action with agent-policy\n",
    "            #print('Action:',action)\n",
    "            \n",
    "            env_info = env.step(action)[brain_name]          # play policy action\n",
    "            next_state = env_info.vector_observations        # observe new state\n",
    "            reward = env_info.rewards[0]                     # observe reward\n",
    "            done = env_info.local_done[0]                    # check if episode is done\n",
    "            #print('Reward:',rewards,', Done: ', dones)\n",
    "            #print('Next State:',next_state)\n",
    "            \n",
    "            agent.step(state, action, reward, next_state, done) # train agent with observed (S,A,R,S')-tuple \n",
    "            \n",
    "            state = next_state\n",
    "            score += reward\n",
    "            if done:\n",
    "                break \n",
    "                \n",
    "        scores_deque.append(score)\n",
    "        scores.append(score)\n",
    "        avg_score = np.mean(scores_deque)\n",
    "        print('\\rEpisode {}\\tScore: {:.2f}\\tMov.Average Score: {:.2f}'.format(i_episode, score, avg_score), end=\"\\n\")\n",
    "\n",
    "        if avg_score>=30:\n",
    "            torch.save(agent.actor_local.state_dict(), 'checkpoint_actor.pth')\n",
    "            torch.save(agent.critic_local.state_dict(), 'checkpoint_critic.pth')     \n",
    "            break\n",
    "            \n",
    "    return scores"
   ]
  },
  {
   "cell_type": "code",
   "execution_count": 8,
   "metadata": {
    "scrolled": true
   },
   "outputs": [
    {
     "name": "stdout",
     "output_type": "stream",
     "text": [
      "Episode 1\tScore: 1.44\tMov.Average Score: 1.44\n",
      "Episode 2\tScore: 0.44\tMov.Average Score: 0.94\n",
      "Episode 3\tScore: 0.29\tMov.Average Score: 0.72\n",
      "Episode 4\tScore: 0.93\tMov.Average Score: 0.77\n",
      "Episode 5\tScore: 0.60\tMov.Average Score: 0.74\n",
      "Episode 6\tScore: 1.23\tMov.Average Score: 0.82\n",
      "Episode 7\tScore: 1.14\tMov.Average Score: 0.87\n",
      "Episode 8\tScore: 1.49\tMov.Average Score: 0.94\n",
      "Episode 9\tScore: 0.35\tMov.Average Score: 0.88\n",
      "Episode 10\tScore: 0.76\tMov.Average Score: 0.87\n",
      "Episode 11\tScore: 0.55\tMov.Average Score: 0.84\n",
      "Episode 12\tScore: 1.29\tMov.Average Score: 0.88\n",
      "Episode 13\tScore: 1.05\tMov.Average Score: 0.89\n",
      "Episode 14\tScore: 1.39\tMov.Average Score: 0.92\n",
      "Episode 15\tScore: 1.23\tMov.Average Score: 0.95\n",
      "Episode 16\tScore: 1.15\tMov.Average Score: 0.96\n",
      "Episode 17\tScore: 2.01\tMov.Average Score: 1.02\n",
      "Episode 18\tScore: 0.71\tMov.Average Score: 1.00\n",
      "Episode 19\tScore: 1.68\tMov.Average Score: 1.04\n",
      "Episode 20\tScore: 1.57\tMov.Average Score: 1.06\n",
      "Episode 21\tScore: 2.20\tMov.Average Score: 1.12\n",
      "Episode 22\tScore: 1.82\tMov.Average Score: 1.15\n",
      "Episode 23\tScore: 2.92\tMov.Average Score: 1.23\n",
      "Episode 24\tScore: 0.39\tMov.Average Score: 1.19\n",
      "Episode 25\tScore: 2.58\tMov.Average Score: 1.25\n",
      "Episode 26\tScore: 2.54\tMov.Average Score: 1.30\n",
      "Episode 27\tScore: 3.03\tMov.Average Score: 1.36\n",
      "Episode 28\tScore: 1.97\tMov.Average Score: 1.38\n",
      "Episode 29\tScore: 0.89\tMov.Average Score: 1.37\n",
      "Episode 30\tScore: 3.09\tMov.Average Score: 1.42\n",
      "Episode 31\tScore: 0.41\tMov.Average Score: 1.39\n",
      "Episode 32\tScore: 0.93\tMov.Average Score: 1.38\n",
      "Episode 33\tScore: 2.27\tMov.Average Score: 1.40\n",
      "Episode 34\tScore: 3.22\tMov.Average Score: 1.46\n",
      "Episode 35\tScore: 1.89\tMov.Average Score: 1.47\n",
      "Episode 36\tScore: 2.46\tMov.Average Score: 1.50\n",
      "Episode 37\tScore: 1.69\tMov.Average Score: 1.50\n",
      "Episode 38\tScore: 3.36\tMov.Average Score: 1.55\n",
      "Episode 39\tScore: 3.30\tMov.Average Score: 1.60\n",
      "Episode 40\tScore: 2.40\tMov.Average Score: 1.62\n",
      "Episode 41\tScore: 3.64\tMov.Average Score: 1.67\n",
      "Episode 42\tScore: 3.19\tMov.Average Score: 1.70\n",
      "Episode 43\tScore: 2.52\tMov.Average Score: 1.72\n",
      "Episode 44\tScore: 5.99\tMov.Average Score: 1.82\n",
      "Episode 45\tScore: 2.85\tMov.Average Score: 1.84\n",
      "Episode 46\tScore: 3.29\tMov.Average Score: 1.87\n",
      "Episode 47\tScore: 3.16\tMov.Average Score: 1.90\n",
      "Episode 48\tScore: 1.61\tMov.Average Score: 1.89\n",
      "Episode 49\tScore: 2.15\tMov.Average Score: 1.90\n",
      "Episode 50\tScore: 4.66\tMov.Average Score: 1.95\n",
      "Episode 51\tScore: 1.50\tMov.Average Score: 1.95\n",
      "Episode 52\tScore: 3.68\tMov.Average Score: 1.98\n",
      "Episode 53\tScore: 3.95\tMov.Average Score: 2.02\n",
      "Episode 54\tScore: 6.39\tMov.Average Score: 2.10\n",
      "Episode 55\tScore: 7.22\tMov.Average Score: 2.19\n",
      "Episode 56\tScore: 3.14\tMov.Average Score: 2.21\n",
      "Episode 57\tScore: 3.46\tMov.Average Score: 2.23\n",
      "Episode 58\tScore: 5.39\tMov.Average Score: 2.28\n",
      "Episode 59\tScore: 3.20\tMov.Average Score: 2.30\n",
      "Episode 60\tScore: 4.66\tMov.Average Score: 2.34\n",
      "Episode 61\tScore: 1.58\tMov.Average Score: 2.33\n",
      "Episode 62\tScore: 4.19\tMov.Average Score: 2.36\n",
      "Episode 63\tScore: 4.23\tMov.Average Score: 2.39\n",
      "Episode 64\tScore: 5.17\tMov.Average Score: 2.43\n",
      "Episode 65\tScore: 3.71\tMov.Average Score: 2.45\n",
      "Episode 66\tScore: 5.80\tMov.Average Score: 2.50\n",
      "Episode 67\tScore: 7.13\tMov.Average Score: 2.57\n",
      "Episode 68\tScore: 4.76\tMov.Average Score: 2.60\n",
      "Episode 69\tScore: 5.59\tMov.Average Score: 2.64\n",
      "Episode 70\tScore: 5.15\tMov.Average Score: 2.68\n",
      "Episode 71\tScore: 4.71\tMov.Average Score: 2.71\n",
      "Episode 72\tScore: 4.84\tMov.Average Score: 2.74\n",
      "Episode 73\tScore: 5.13\tMov.Average Score: 2.77\n",
      "Episode 74\tScore: 9.97\tMov.Average Score: 2.87\n",
      "Episode 75\tScore: 5.30\tMov.Average Score: 2.90\n",
      "Episode 76\tScore: 4.18\tMov.Average Score: 2.92\n",
      "Episode 77\tScore: 7.82\tMov.Average Score: 2.98\n",
      "Episode 78\tScore: 3.88\tMov.Average Score: 2.99\n",
      "Episode 79\tScore: 9.78\tMov.Average Score: 3.08\n",
      "Episode 80\tScore: 6.14\tMov.Average Score: 3.12\n",
      "Episode 81\tScore: 10.13\tMov.Average Score: 3.20\n",
      "Episode 82\tScore: 8.77\tMov.Average Score: 3.27\n",
      "Episode 83\tScore: 15.68\tMov.Average Score: 3.42\n",
      "Episode 84\tScore: 11.41\tMov.Average Score: 3.52\n",
      "Episode 85\tScore: 22.33\tMov.Average Score: 3.74\n",
      "Episode 86\tScore: 14.10\tMov.Average Score: 3.86\n",
      "Episode 87\tScore: 11.54\tMov.Average Score: 3.95\n",
      "Episode 88\tScore: 5.61\tMov.Average Score: 3.97\n",
      "Episode 89\tScore: 4.79\tMov.Average Score: 3.97\n",
      "Episode 90\tScore: 21.80\tMov.Average Score: 4.17\n",
      "Episode 91\tScore: 26.95\tMov.Average Score: 4.42\n",
      "Episode 92\tScore: 16.91\tMov.Average Score: 4.56\n",
      "Episode 93\tScore: 15.05\tMov.Average Score: 4.67\n",
      "Episode 94\tScore: 11.41\tMov.Average Score: 4.74\n",
      "Episode 95\tScore: 17.57\tMov.Average Score: 4.88\n",
      "Episode 96\tScore: 23.41\tMov.Average Score: 5.07\n",
      "Episode 97\tScore: 33.35\tMov.Average Score: 5.36\n",
      "Episode 98\tScore: 28.27\tMov.Average Score: 5.60\n",
      "Episode 99\tScore: 8.53\tMov.Average Score: 5.63\n",
      "Episode 100\tScore: 8.25\tMov.Average Score: 5.65\n",
      "Episode 101\tScore: 21.83\tMov.Average Score: 5.86\n",
      "Episode 102\tScore: 29.42\tMov.Average Score: 6.15\n",
      "Episode 103\tScore: 16.63\tMov.Average Score: 6.31\n",
      "Episode 104\tScore: 27.17\tMov.Average Score: 6.57\n",
      "Episode 105\tScore: 7.04\tMov.Average Score: 6.64\n",
      "Episode 106\tScore: 17.87\tMov.Average Score: 6.80\n",
      "Episode 107\tScore: 26.35\tMov.Average Score: 7.05\n",
      "Episode 108\tScore: 5.44\tMov.Average Score: 7.09\n",
      "Episode 109\tScore: 29.41\tMov.Average Score: 7.38\n",
      "Episode 110\tScore: 32.37\tMov.Average Score: 7.70\n",
      "Episode 111\tScore: 24.75\tMov.Average Score: 7.94\n",
      "Episode 112\tScore: 30.61\tMov.Average Score: 8.24\n",
      "Episode 113\tScore: 32.97\tMov.Average Score: 8.56\n",
      "Episode 114\tScore: 11.49\tMov.Average Score: 8.66\n",
      "Episode 115\tScore: 30.62\tMov.Average Score: 8.95\n",
      "Episode 116\tScore: 37.79\tMov.Average Score: 9.32\n",
      "Episode 117\tScore: 37.44\tMov.Average Score: 9.67\n",
      "Episode 118\tScore: 37.12\tMov.Average Score: 10.03\n",
      "Episode 119\tScore: 12.05\tMov.Average Score: 10.14\n",
      "Episode 120\tScore: 22.70\tMov.Average Score: 10.35\n",
      "Episode 121\tScore: 39.32\tMov.Average Score: 10.72\n",
      "Episode 122\tScore: 31.47\tMov.Average Score: 11.02\n",
      "Episode 123\tScore: 14.75\tMov.Average Score: 11.14\n",
      "Episode 124\tScore: 37.83\tMov.Average Score: 11.51\n",
      "Episode 125\tScore: 20.60\tMov.Average Score: 11.69\n",
      "Episode 126\tScore: 38.59\tMov.Average Score: 12.05\n",
      "Episode 127\tScore: 14.37\tMov.Average Score: 12.16\n",
      "Episode 128\tScore: 39.33\tMov.Average Score: 12.54\n",
      "Episode 129\tScore: 36.94\tMov.Average Score: 12.90\n",
      "Episode 130\tScore: 34.17\tMov.Average Score: 13.21\n",
      "Episode 131\tScore: 23.37\tMov.Average Score: 13.44\n",
      "Episode 132\tScore: 37.72\tMov.Average Score: 13.81\n",
      "Episode 133\tScore: 38.33\tMov.Average Score: 14.17\n",
      "Episode 134\tScore: 34.48\tMov.Average Score: 14.48\n",
      "Episode 135\tScore: 36.62\tMov.Average Score: 14.83\n",
      "Episode 136\tScore: 39.55\tMov.Average Score: 15.20\n",
      "Episode 137\tScore: 36.40\tMov.Average Score: 15.55\n",
      "Episode 138\tScore: 28.91\tMov.Average Score: 15.80\n",
      "Episode 139\tScore: 37.48\tMov.Average Score: 16.14\n",
      "Episode 140\tScore: 12.81\tMov.Average Score: 16.25\n",
      "Episode 141\tScore: 37.83\tMov.Average Score: 16.59\n",
      "Episode 142\tScore: 39.56\tMov.Average Score: 16.95\n",
      "Episode 143\tScore: 37.80\tMov.Average Score: 17.31\n",
      "Episode 144\tScore: 39.50\tMov.Average Score: 17.64\n",
      "Episode 145\tScore: 31.54\tMov.Average Score: 17.93\n",
      "Episode 146\tScore: 30.65\tMov.Average Score: 18.20\n",
      "Episode 147\tScore: 39.09\tMov.Average Score: 18.56\n",
      "Episode 148\tScore: 20.83\tMov.Average Score: 18.75\n",
      "Episode 149\tScore: 33.41\tMov.Average Score: 19.06\n",
      "Episode 150\tScore: 39.57\tMov.Average Score: 19.41\n",
      "Episode 151\tScore: 34.50\tMov.Average Score: 19.74\n",
      "Episode 152\tScore: 29.50\tMov.Average Score: 20.00\n",
      "Episode 153\tScore: 26.13\tMov.Average Score: 20.22\n",
      "Episode 154\tScore: 37.82\tMov.Average Score: 20.54\n",
      "Episode 155\tScore: 37.49\tMov.Average Score: 20.84\n",
      "Episode 156\tScore: 27.78\tMov.Average Score: 21.09\n",
      "Episode 157\tScore: 38.36\tMov.Average Score: 21.44\n",
      "Episode 158\tScore: 19.54\tMov.Average Score: 21.58\n",
      "Episode 159\tScore: 34.89\tMov.Average Score: 21.89\n",
      "Episode 160\tScore: 36.42\tMov.Average Score: 22.21\n",
      "Episode 161\tScore: 31.93\tMov.Average Score: 22.52\n",
      "Episode 162\tScore: 34.98\tMov.Average Score: 22.82\n",
      "Episode 163\tScore: 36.34\tMov.Average Score: 23.14\n",
      "Episode 164\tScore: 39.23\tMov.Average Score: 23.49\n",
      "Episode 165\tScore: 34.42\tMov.Average Score: 23.79\n",
      "Episode 166\tScore: 37.62\tMov.Average Score: 24.11\n",
      "Episode 167\tScore: 38.99\tMov.Average Score: 24.43\n",
      "Episode 168\tScore: 38.97\tMov.Average Score: 24.77\n",
      "Episode 169\tScore: 34.12\tMov.Average Score: 25.06\n",
      "Episode 170\tScore: 38.47\tMov.Average Score: 25.39\n",
      "Episode 171\tScore: 34.70\tMov.Average Score: 25.69\n"
     ]
    },
    {
     "name": "stdout",
     "output_type": "stream",
     "text": [
      "Episode 172\tScore: 39.27\tMov.Average Score: 26.03\n",
      "Episode 173\tScore: 29.32\tMov.Average Score: 26.28\n",
      "Episode 174\tScore: 37.98\tMov.Average Score: 26.56\n",
      "Episode 175\tScore: 33.51\tMov.Average Score: 26.84\n",
      "Episode 176\tScore: 38.91\tMov.Average Score: 27.19\n",
      "Episode 177\tScore: 38.94\tMov.Average Score: 27.50\n",
      "Episode 178\tScore: 31.35\tMov.Average Score: 27.77\n",
      "Episode 179\tScore: 29.57\tMov.Average Score: 27.97\n",
      "Episode 180\tScore: 32.90\tMov.Average Score: 28.24\n",
      "Episode 181\tScore: 33.99\tMov.Average Score: 28.48\n",
      "Episode 182\tScore: 38.80\tMov.Average Score: 28.78\n",
      "Episode 183\tScore: 38.26\tMov.Average Score: 29.00\n",
      "Episode 184\tScore: 36.32\tMov.Average Score: 29.25\n",
      "Episode 185\tScore: 38.42\tMov.Average Score: 29.41\n",
      "Episode 186\tScore: 37.79\tMov.Average Score: 29.65\n",
      "Episode 187\tScore: 36.30\tMov.Average Score: 29.90\n",
      "Episode 188\tScore: 37.32\tMov.Average Score: 30.21\n"
     ]
    },
    {
     "data": {
      "image/png": "[encoded data removed]",
      "text/plain": [
       "<Figure size 432x288 with 1 Axes>"
      ]
     },
     "metadata": {},
     "output_type": "display_data"
    }
   ],
   "source": [
    "from ddpg_agent import Agent\n",
    "\n",
    "agent = Agent(state_size=33, action_size=4)\n",
    "scores = ddpg(n_episodes=1000)\n",
    "\n",
    "fig = plt.figure()\n",
    "ax = fig.add_subplot(111)\n",
    "plt.plot(np.arange(1, len(scores)+1), scores)\n",
    "plt.ylabel('Score')\n",
    "plt.xlabel('Episode #')\n",
    "plt.show()"
   ]
  },
  {
   "cell_type": "markdown",
   "metadata": {},
   "source": [
    "When finished, you can close the environment."
   ]
  },
  {
   "cell_type": "code",
   "execution_count": 9,
   "metadata": {},
   "outputs": [],
   "source": [
    "env.close()"
   ]
  },
  {
   "cell_type": "markdown",
   "metadata": {},
   "source": [
    "### 5. Future Work\n",
    "- I would like to understand why the final batch norm layer that I attempted to apply directly before the output layer degraded training. \n",
    "- It would also be interesting to solve the enviromnet using a probabilistic policy such as PPO. \n",
    "- Gradient clipping is often considered important, and it would be worth exploring the magnitude of the gradients in this problem and to apply clipping.\n",
    "- Enhance the understanding of the training process by visualizing the parameter evolution via TensorBoard."
   ]
  }
 ],
 "metadata": {
  "kernelspec": {
   "display_name": "Python 3",
   "language": "python",
   "name": "python3"
  },
  "language_info": {
   "codemirror_mode": {
    "name": "ipython",
    "version": 3
   },
   "file_extension": ".py",
   "mimetype": "text/x-python",
   "name": "python",
   "nbconvert_exporter": "python",
   "pygments_lexer": "ipython3",
   "version": "3.6.6"
  }
 },
 "nbformat": 4,
 "nbformat_minor": 2
}
